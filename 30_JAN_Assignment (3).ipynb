{
 "cells": [
  {
   "cell_type": "code",
   "execution_count": null,
   "id": "c56ced70-1881-4f21-acf4-a9bd8ad140cd",
   "metadata": {},
   "outputs": [],
   "source": [
    "Assignment 2\n",
    "'''Q1) 1. Write a program to accept percentage from the user and display the grade according to the following \n",
    "criteria: \n",
    "Marks \n",
    "Grade \n",
    ">90 \n",
    "A \n",
    ">80 and <=90 \n",
    "B \n",
    ">=60 and <=80 \n",
    "C \n",
    "below 60 \n",
    "D'''\n"
   ]
  },
  {
   "cell_type": "code",
   "execution_count": 1,
   "id": "fcf7c7c6-879a-4efe-8796-cf72c042243f",
   "metadata": {},
   "outputs": [
    {
     "name": "stdin",
     "output_type": "stream",
     "text": [
      " 7658\n"
     ]
    },
    {
     "name": "stdout",
     "output_type": "stream",
     "text": [
      "Your Grade is A\n"
     ]
    }
   ],
   "source": [
    "marks=int(input())\n",
    "\n",
    "if marks>90:\n",
    "    print('Your Grade is A')\n",
    "elif marks>80 and marks<=90:\n",
    "    print('Your grade is B')\n",
    "elif marks>=60 and marks<=80:\n",
    "    print('Your grade is C')\n",
    "else:\n",
    "    print('Your grade is D')"
   ]
  },
  {
   "cell_type": "code",
   "execution_count": null,
   "id": "3dd4eef5-eb58-48ce-8c62-32d208a74eee",
   "metadata": {},
   "outputs": [],
   "source": [
    "'''2. Write a program to accept the cost price of a bike and display the road tax to be paid according to the \n",
    "following criteria: \n",
    "Tax \n",
    "15% \n",
    "10% \n",
    "5% \n",
    "Cost Price(in Rs) \n",
    ">100000 \n",
    "5 \n",
    "50000 and <= 100000 \n",
    "<= 50000 '''"
   ]
  },
  {
   "cell_type": "code",
   "execution_count": 1,
   "id": "c18356ca-2483-41d9-b262-1fade75eb0e9",
   "metadata": {},
   "outputs": [
    {
     "name": "stdin",
     "output_type": "stream",
     "text": [
      " 78\n"
     ]
    },
    {
     "name": "stdout",
     "output_type": "stream",
     "text": [
      "Your road tax to be paid is 5%\n"
     ]
    }
   ],
   "source": [
    "car_price=int(input())\n",
    "\n",
    "if car_price>100000:\n",
    "    print('Your road tax to be paid is 15%')\n",
    "elif car_price>=50000 and car_price<=100000:\n",
    "    print('Your road tax to be paid is 10%')\n",
    "elif car_price<=50000:\n",
    "    print('Your road tax to be paid is 5%')\n",
    "    "
   ]
  },
  {
   "cell_type": "code",
   "execution_count": null,
   "id": "75df6585-9219-4505-b7a6-39cceb4738ce",
   "metadata": {},
   "outputs": [],
   "source": [
    "'''3.Accept any city from the user and display monuments of that city. \n",
    "City \n",
    "Delhi \n",
    "Monument \n",
    "Red Fort \n",
    "Taj Mahal \n",
    "Agra \n",
    "Jaipur \n",
    "Jal Mahal '''"
   ]
  },
  {
   "cell_type": "code",
   "execution_count": 12,
   "id": "d05a8745-886e-42f4-ae3f-cf4a1e1ae867",
   "metadata": {},
   "outputs": [
    {
     "name": "stdin",
     "output_type": "stream",
     "text": [
      " Jaipur\n"
     ]
    },
    {
     "name": "stdout",
     "output_type": "stream",
     "text": [
      "Monument of  Jaipur is Jal Mahal\n"
     ]
    }
   ],
   "source": [
    "city=input()\n",
    "\n",
    "if city=='Delhi':\n",
    "    monument=f'Monument of  {city} is Red Fort'\n",
    "    print(monument)\n",
    "elif city=='Agra':\n",
    "    monument=f'Monument of  {city} is Taj Mahal'\n",
    "    print(monument)\n",
    "elif city=='Jaipur':\n",
    "    monument=f'Monument of  {city} is Jal Mahal'\n",
    "    print(monument)\n",
    "    "
   ]
  },
  {
   "cell_type": "code",
   "execution_count": null,
   "id": "c21a9a5d-55a4-497b-96c9-de7f6c5495dd",
   "metadata": {},
   "outputs": [],
   "source": [
    "4. #Check how many times a given number can be divided by 3 before it is less than or equal to 10. "
   ]
  },
  {
   "cell_type": "code",
   "execution_count": 2,
   "id": "79715470-78aa-414c-a00f-83cd43d0f626",
   "metadata": {},
   "outputs": [
    {
     "name": "stdin",
     "output_type": "stream",
     "text": [
      "Enter a number:  87\n"
     ]
    },
    {
     "name": "stdout",
     "output_type": "stream",
     "text": [
      "The number can be divided by 3 2 times before it is less than or equal to 10.\n"
     ]
    }
   ],
   "source": [
    "def divide_by_3(num):\n",
    "    count = 0\n",
    "    while num > 10:\n",
    "        num = num / 3\n",
    "        count += 1\n",
    "        if num <= 10:\n",
    "            break\n",
    "    return count\n",
    "\n",
    "number = int(input(\"Enter a number: \"))\n",
    "result = divide_by_3(number)\n",
    "print(f\"The number can be divided by 3 {result} times before it is less than or equal to 10.\")"
   ]
  },
  {
   "cell_type": "code",
   "execution_count": null,
   "id": "697018dd-66e9-43d6-bdce-f5642df9dfaf",
   "metadata": {},
   "outputs": [],
   "source": [
    "#5. Why and When to Use while Loop in Python give a detailed description with example "
   ]
  },
  {
   "cell_type": "code",
   "execution_count": null,
   "id": "fcf39036-fa1a-4675-8aaa-2d4080a0c6c7",
   "metadata": {},
   "outputs": [],
   "source": [
    "'''A while loop in Python is used to repeat a block of code as long as a certain condition is true.\n",
    "PFB example:\n",
    "count = 1\n",
    "while count <= 5:\n",
    "    print(count)\n",
    "    count += 1\n",
    "    \n",
    "op:\n",
    "1\n",
    "2\n",
    "3\n",
    "4\n",
    "5'''"
   ]
  },
  {
   "cell_type": "code",
   "execution_count": null,
   "id": "9a659f38-1748-4973-8cb1-843cc7116c3b",
   "metadata": {},
   "outputs": [],
   "source": [
    "#6.Use nested while loop to print 3 different pattern. "
   ]
  },
  {
   "cell_type": "code",
   "execution_count": 4,
   "id": "33e4accd-173d-4376-a4e7-1210f990cf72",
   "metadata": {},
   "outputs": [
    {
     "name": "stdout",
     "output_type": "stream",
     "text": [
      "*\n",
      "**\n",
      "***\n",
      "****\n",
      "*****\n"
     ]
    }
   ],
   "source": [
    "#first pattern\n",
    "\n",
    "rows = 5\n",
    "count = 1\n",
    "while count <= rows:\n",
    "    stars = count\n",
    "    while stars > 0:\n",
    "        print(\"*\", end=\"\")\n",
    "        stars -= 1\n",
    "    print(\"\")\n",
    "    count += 1"
   ]
  },
  {
   "cell_type": "code",
   "execution_count": 5,
   "id": "040bfb26-d521-4a0e-998b-78896ab44fbd",
   "metadata": {},
   "outputs": [
    {
     "name": "stdout",
     "output_type": "stream",
     "text": [
      "    *\n",
      "   **\n",
      "  ***\n",
      " ****\n",
      "*****\n"
     ]
    }
   ],
   "source": [
    "#2nd pattern\n",
    "rows = 5\n",
    "count = 1\n",
    "while count <= rows:\n",
    "    spaces = rows - count\n",
    "    while spaces > 0:\n",
    "        print(\" \", end=\"\")\n",
    "        spaces -= 1\n",
    "    stars = count\n",
    "    while stars > 0:\n",
    "        print(\"*\", end=\"\")\n",
    "        stars -= 1\n",
    "    print(\"\")\n",
    "    count += 1"
   ]
  },
  {
   "cell_type": "code",
   "execution_count": 6,
   "id": "ab0521a9-ccca-4674-81c8-9e964c76da22",
   "metadata": {},
   "outputs": [
    {
     "name": "stdout",
     "output_type": "stream",
     "text": [
      "*****\n",
      " ****\n",
      "  ***\n",
      "   **\n",
      "    *\n"
     ]
    }
   ],
   "source": [
    "#3rd pattern\n",
    "\n",
    "rows = 5\n",
    "count = rows\n",
    "while count >= 1:\n",
    "    spaces = rows - count\n",
    "    while spaces > 0:\n",
    "        print(\" \", end=\"\")\n",
    "        spaces -= 1\n",
    "    stars = count\n",
    "    while stars > 0:\n",
    "        print(\"*\", end=\"\")\n",
    "        stars -= 1\n",
    "    print(\"\")\n",
    "    count -= 1"
   ]
  },
  {
   "cell_type": "code",
   "execution_count": null,
   "id": "5e506058-5fed-499c-851e-5222f7faa1c9",
   "metadata": {},
   "outputs": [],
   "source": [
    "#7. Reverse a while loop to display numbers from 10 to 1. "
   ]
  },
  {
   "cell_type": "code",
   "execution_count": 2,
   "id": "ccb95f8a-0914-45a3-9ac1-c66e7f48a51e",
   "metadata": {},
   "outputs": [
    {
     "name": "stdout",
     "output_type": "stream",
     "text": [
      "10\n",
      "9\n",
      "8\n",
      "7\n",
      "6\n",
      "5\n",
      "4\n",
      "3\n",
      "2\n",
      "1\n"
     ]
    }
   ],
   "source": [
    "num=10\n",
    "\n",
    "while num>0:\n",
    "    print(num)\n",
    "    num=num-1"
   ]
  }
 ],
 "metadata": {
  "kernelspec": {
   "display_name": "Python 3 (ipykernel)",
   "language": "python",
   "name": "python3"
  },
  "language_info": {
   "codemirror_mode": {
    "name": "ipython",
    "version": 3
   },
   "file_extension": ".py",
   "mimetype": "text/x-python",
   "name": "python",
   "nbconvert_exporter": "python",
   "pygments_lexer": "ipython3",
   "version": "3.10.8"
  }
 },
 "nbformat": 4,
 "nbformat_minor": 5
}
